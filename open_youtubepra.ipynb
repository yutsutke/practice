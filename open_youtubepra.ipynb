{
  "nbformat": 4,
  "nbformat_minor": 0,
  "metadata": {
    "colab": {
      "provenance": [],
      "include_colab_link": true
    },
    "kernelspec": {
      "name": "python3",
      "display_name": "Python 3"
    },
    "language_info": {
      "name": "python"
    }
  },
  "cells": [
    {
      "cell_type": "markdown",
      "metadata": {
        "id": "view-in-github",
        "colab_type": "text"
      },
      "source": [
        "<a href=\"https://colab.research.google.com/github/yutsutke/practice/blob/main/open_youtubepra.ipynb\" target=\"_parent\"><img src=\"https://colab.research.google.com/assets/colab-badge.svg\" alt=\"Open In Colab\"/></a>"
      ]
    },
    {
      "cell_type": "code",
      "execution_count": null,
      "metadata": {
        "colab": {
          "base_uri": "https://localhost:8080/"
        },
        "id": "7PFP4NmHUDyV",
        "outputId": "4dabb1cb-3566-43e9-e58f-1f2893351d48"
      },
      "outputs": [
        {
          "output_type": "stream",
          "name": "stdout",
          "text": [
            "Looking in indexes: https://pypi.org/simple, https://us-python.pkg.dev/colab-wheels/public/simple/\n",
            "Requirement already satisfied: google-auth in /usr/local/lib/python3.8/dist-packages (2.16.1)\n",
            "Requirement already satisfied: google-auth-oauthlib in /usr/local/lib/python3.8/dist-packages (0.4.6)\n",
            "Requirement already satisfied: google-auth-httplib2 in /usr/local/lib/python3.8/dist-packages (0.1.0)\n",
            "Requirement already satisfied: google-api-python-client in /usr/local/lib/python3.8/dist-packages (2.70.0)\n",
            "Requirement already satisfied: pandas in /usr/local/lib/python3.8/dist-packages (1.3.5)\n",
            "Requirement already satisfied: gspread in /usr/local/lib/python3.8/dist-packages (3.4.2)\n",
            "Requirement already satisfied: gspread_dataframe in /usr/local/lib/python3.8/dist-packages (3.0.8)\n",
            "Requirement already satisfied: cachetools<6.0,>=2.0.0 in /usr/local/lib/python3.8/dist-packages (from google-auth) (5.3.0)\n",
            "Requirement already satisfied: pyasn1-modules>=0.2.1 in /usr/local/lib/python3.8/dist-packages (from google-auth) (0.2.8)\n",
            "Requirement already satisfied: six>=1.9.0 in /usr/local/lib/python3.8/dist-packages (from google-auth) (1.15.0)\n",
            "Requirement already satisfied: rsa<5,>=3.1.4 in /usr/local/lib/python3.8/dist-packages (from google-auth) (4.9)\n",
            "Requirement already satisfied: requests-oauthlib>=0.7.0 in /usr/local/lib/python3.8/dist-packages (from google-auth-oauthlib) (1.3.1)\n",
            "Requirement already satisfied: httplib2>=0.15.0 in /usr/local/lib/python3.8/dist-packages (from google-auth-httplib2) (0.17.4)\n",
            "Requirement already satisfied: google-api-core!=2.0.*,!=2.1.*,!=2.2.*,!=2.3.0,<3.0.0dev,>=1.31.5 in /usr/local/lib/python3.8/dist-packages (from google-api-python-client) (2.11.0)\n",
            "Requirement already satisfied: uritemplate<5,>=3.0.1 in /usr/local/lib/python3.8/dist-packages (from google-api-python-client) (4.1.1)\n",
            "Requirement already satisfied: numpy>=1.17.3 in /usr/local/lib/python3.8/dist-packages (from pandas) (1.22.4)\n",
            "Requirement already satisfied: pytz>=2017.3 in /usr/local/lib/python3.8/dist-packages (from pandas) (2022.7.1)\n",
            "Requirement already satisfied: python-dateutil>=2.7.3 in /usr/local/lib/python3.8/dist-packages (from pandas) (2.8.2)\n",
            "Requirement already satisfied: requests>=2.2.1 in /usr/local/lib/python3.8/dist-packages (from gspread) (2.25.1)\n",
            "Requirement already satisfied: googleapis-common-protos<2.0dev,>=1.56.2 in /usr/local/lib/python3.8/dist-packages (from google-api-core!=2.0.*,!=2.1.*,!=2.2.*,!=2.3.0,<3.0.0dev,>=1.31.5->google-api-python-client) (1.58.0)\n",
            "Requirement already satisfied: protobuf!=3.20.0,!=3.20.1,!=4.21.0,!=4.21.1,!=4.21.2,!=4.21.3,!=4.21.4,!=4.21.5,<5.0.0dev,>=3.19.5 in /usr/local/lib/python3.8/dist-packages (from google-api-core!=2.0.*,!=2.1.*,!=2.2.*,!=2.3.0,<3.0.0dev,>=1.31.5->google-api-python-client) (3.19.6)\n",
            "Requirement already satisfied: pyasn1<0.5.0,>=0.4.6 in /usr/local/lib/python3.8/dist-packages (from pyasn1-modules>=0.2.1->google-auth) (0.4.8)\n",
            "Requirement already satisfied: idna<3,>=2.5 in /usr/local/lib/python3.8/dist-packages (from requests>=2.2.1->gspread) (2.10)\n",
            "Requirement already satisfied: chardet<5,>=3.0.2 in /usr/local/lib/python3.8/dist-packages (from requests>=2.2.1->gspread) (4.0.0)\n",
            "Requirement already satisfied: urllib3<1.27,>=1.21.1 in /usr/local/lib/python3.8/dist-packages (from requests>=2.2.1->gspread) (1.26.14)\n",
            "Requirement already satisfied: certifi>=2017.4.17 in /usr/local/lib/python3.8/dist-packages (from requests>=2.2.1->gspread) (2022.12.7)\n",
            "Requirement already satisfied: oauthlib>=3.0.0 in /usr/local/lib/python3.8/dist-packages (from requests-oauthlib>=0.7.0->google-auth-oauthlib) (3.2.2)\n"
          ]
        }
      ],
      "source": [
        "!pip install google-auth google-auth-oauthlib google-auth-httplib2 google-api-python-client pandas gspread gspread_dataframe"
      ]
    },
    {
      "cell_type": "markdown",
      "source": [
        "# 新しいセクション"
      ],
      "metadata": {
        "id": "ZqbL4DJDdrB_"
      }
    },
    {
      "cell_type": "markdown",
      "source": [
        "# 新しいセクション"
      ],
      "metadata": {
        "id": "2molQVWJdrg6"
      }
    },
    {
      "cell_type": "code",
      "source": [
        "# Youtubeから検索したいワードに基づいた情報（title\tviews\t公開日）のスプレッドシートをグーグルドライブ上に作成\n",
        "# グーグルコラボ上で実行することを想定してます。\n",
        "# Google Sheetsへの認証のため、'グーグルコンソール'の'IAMと管理'より'サービス アカウント'を取得し、'credentials.json'を作成し、グーグルドライブ上に置く必要あり\n",
        "# データを書き込むスプレッドシートは、'スプレッドシートの公開'の'アクセスできるユーザ'にサービスアカウントのメールアドレスを登録しておく必要があります。\n",
        "# 'Google Sheets API'と'YouTube Data API v3'はAPIのステータスは有効にしてください。\n",
        "# 入力の必要ある項目は、Google API情報（your key） 検索条件の設定(検索したいワード) スプレッドシートを開く（スプレッドシートＩＤ）スプレッドシート\n",
        "\n",
        "import pandas as pd\n",
        "import gspread\n",
        "from gspread_dataframe import set_with_dataframe\n",
        "from google.oauth2.credentials import Credentials\n",
        "from googleapiclient.discovery import build\n",
        "from google.oauth2 import service_account\n",
        "from google.colab import drive\n",
        "\n",
        "# Google Driveをマウントする\n",
        "drive.mount('/content/drive')\n",
        "\n",
        "# Google API情報\n",
        "api_key = 'your key'\n",
        "youtube = build('youtube', 'v3', developerKey=api_key)\n",
        "\n",
        "# 検索条件の設定\n",
        "search_query = '検索したいワード'\n",
        "max_results = 50\n",
        "\n",
        "# 検索結果の取得\n",
        "search_response = youtube.search().list(\n",
        "    q=search_query,\n",
        "    type='video',\n",
        "    part='id,snippet',\n",
        "    maxResults=max_results\n",
        ").execute()\n",
        "\n",
        "# 動画IDのリストを作成\n",
        "video_ids = []\n",
        "for search_result in search_response.get('items', []):\n",
        "    video_ids.append(search_result['id']['videoId'])\n",
        "\n",
        "# 動画の統計情報を取得\n",
        "stats = []\n",
        "for i in range(0, len(video_ids), 50):\n",
        "    res = youtube.videos().list(\n",
        "        id=','.join(video_ids[i:i + 50]),\n",
        "        part='id,statistics'\n",
        "    ).execute()\n",
        "    stats += res['items']\n",
        "\n",
        "# データの整形\n",
        "video_data = []\n",
        "for stat in stats:\n",
        "    video_id = stat['id']\n",
        "    views = int(stat['statistics']['viewCount'])\n",
        "    title = search_response['items'][video_ids.index(video_id)]['snippet']['title']\n",
        "    video_data.append([title, views])\n",
        "\n",
        "# データフレームの作成\n",
        "df = pd.DataFrame(video_data, columns=['title', 'views'])\n",
        "df = df.sort_values(by='views', ascending=False)\n",
        "\n",
        "# 公開日の項目を追加する列を選択する\n",
        "df['公開日'] = ''\n",
        "for i, item in enumerate(search_response['items']):\n",
        "    video_id = item['id']['videoId']\n",
        "    video = youtube.videos().list(part='snippet', id=video_id).execute()['items'][0]\n",
        "    df.at[i, '公開日'] = video['snippet']['publishedAt']\n",
        "\n",
        "# Google Sheetsへの認証\n",
        "creds = service_account.Credentials.from_service_account_file('/content/drive/MyDrive/credentials.json', scopes=['https://www.googleapis.com/auth/spreadsheets'])\n",
        "gc = gspread.authorize(creds)\n",
        "\n",
        "# スプレッドシートを開く\n",
        "sheet_id = 'スプレッドシートＩＤ'\n",
        "sh = gc.open_by_key(sheet_id)\n",
        "\n",
        "# シートを指定する\n",
        "\n",
        "worksheet_name = 'Sheet1'\n",
        "worksheet = sh.worksheet(worksheet_name)\n",
        "\n",
        "# データを書き込む\n",
        "set_with_dataframe(worksheet, df)\n"
      ],
      "metadata": {
        "id": "nBwVTyCF9tNa"
      },
      "execution_count": null,
      "outputs": []
    },
    {
      "cell_type": "code",
      "source": [],
      "metadata": {
        "id": "BbQ16OWk5-Ug"
      },
      "execution_count": null,
      "outputs": []
    }
  ]
}