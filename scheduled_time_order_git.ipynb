{
  "nbformat": 4,
  "nbformat_minor": 0,
  "metadata": {
    "colab": {
      "provenance": [],
      "authorship_tag": "ABX9TyNxUbYHipgv/OW72APCa49j"
    },
    "kernelspec": {
      "name": "python3",
      "display_name": "Python 3"
    },
    "language_info": {
      "name": "python"
    }
  },
  "cells": [
    {
      "cell_type": "code",
      "execution_count": null,
      "metadata": {
        "id": "T6Bj5H-nTQM4"
      },
      "outputs": [],
      "source": [
        "#github up用\n",
        "#日本時間で特定の時間になったら発注（ビットフライヤー用）\n",
        "#個人が勉強用につくってます。動作保証はありません。\n",
        "\n",
        "import requests\n",
        "import json\n",
        "import time\n",
        "import hmac\n",
        "import hashlib\n",
        "from datetime import datetime, timezone, timedelta\n",
        "\n",
        "\n",
        "url = \"https://api.bitflyer.com\"\n",
        "path_url = \"/v1/me/sendchildorder\"\n",
        "method = \"POST\"\n",
        "\n",
        "\n",
        "# 指定した時刻の年月日を現在時刻から取得する\n",
        "JST = timezone(timedelta(hours=+9), 'JST')                                 # JST (日本標準時) のタイムゾーンオブジェクトを作成する\n",
        "now = datetime.now(JST)                                                    # 現在時刻を取得し、JST に変換する\n",
        "order_time = datetime(now.year, now.month, now.day, 18, 0, 0, tzinfo=JST)  # 日本時間を指定する\n",
        "\n",
        "\n",
        "# 指定した時刻になるまで待機する\n",
        "while now < order_time:\n",
        "    now = datetime.now()\n",
        "    time.sleep(30)\n",
        "\n",
        "\n",
        "#購入注文を出す Lightning FXにて\n",
        "timestamp = int(time.time() * 1000)\n",
        "timestamp = str(timestamp)\n",
        "\n",
        "payload = {\n",
        "    \"product_code\": \"FX_BTC_JPY\",\n",
        "    \"child_order_type\": \"LIMIT\",  #指値注文の場合は \"LIMIT\", 成行注文の場合は \"MARKET\"\n",
        "    \"side\": \"BUY\",                #買い注文の場合は \"BUY\", 売り注文の場合は \"SELL\" \n",
        "    \"price\": price-20000,             #child_order_type に \"LIMIT\" を指定した場合は必須\n",
        "    \"size\": 0.01,                 #注文数量を指定します。\n",
        "    \"minute_to_expire\": 10000,    #期限切れまでの時間を分で指定します。省略した場合の値は 43200 (30 日間) です。\n",
        "    \"time_in_force\": \"GTC\"        # 執行数量条件 を \"GTC\", \"IOC\", \"FOK\" のいずれかで指定します。省略した場合の値は \"GTC\" です。\n",
        "}\n",
        "\n",
        "\n",
        "body = json.dumps(payload) #payloadをjson形式へ変換\n",
        "message = timestamp + method + path_url + body\n",
        "signature = hmac.new(bytearray('secrit API'.encode('utf-8')), message.encode('utf-8') , digestmod = hashlib.sha256 ).hexdigest()\n",
        "\n",
        "headers = {\n",
        "        'ACCESS-KEY' : 'API key',\n",
        "        'ACCESS-TIMESTAMP' : timestamp,\n",
        "        'ACCESS-SIGN' : signature,\n",
        "        'Content-Type' : 'application/json'}\n",
        "\n",
        "response = requests.post( url + path_url , headers = headers, data=body)\n",
        "\n",
        "print(response.text)\n",
        "\n",
        "\n",
        "\n"
      ]
    }
  ]
}