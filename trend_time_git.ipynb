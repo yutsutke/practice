{
  "nbformat": 4,
  "nbformat_minor": 0,
  "metadata": {
    "colab": {
      "provenance": [],
      "authorship_tag": "ABX9TyP8B404SM7K62JIgC7jF31J"
    },
    "kernelspec": {
      "name": "python3",
      "display_name": "Python 3"
    },
    "language_info": {
      "name": "python"
    }
  },
  "cells": [
    {
      "cell_type": "code",
      "source": [
        "#トレンドが発生しやすい時間帯の研究\n",
        "!pip install yfinance\n",
        "!pip install matplotlib"
      ],
      "metadata": {
        "id": "V0E0Zx97OkaJ"
      },
      "execution_count": null,
      "outputs": []
    },
    {
      "cell_type": "code",
      "source": [
        "#以下は1分変動率の絶対値を1時間ごとに足し合わせて、７日間の平均をとったもの。\n",
        "\n",
        "#13時に底を打ち上昇、16時からさらに上昇し、２０時にさらに上昇　1時にピークを迎える　4時ごろまで下り、１０時からさらもう一段下る。\n",
        "\n",
        "#13時、16時、21時から参加者が増え始めて、１時から参加者が減り始め、１０時ごろからもう一段参加者が減ることが推測される。\n",
        "\n",
        "#トレンドの発生時間と比較すると興味深い。\n",
        "\n",
        "import yfinance as yf\n",
        "import pandas as pd\n",
        "import matplotlib.pyplot as plt\n",
        "import matplotlib.dates as mdates\n",
        "import pytz\n",
        "\n",
        "\n",
        "# Get historical Bitcoin data\n",
        "data = yf.download(\"BTC-USD\", interval=\"1m\", period=\"7d\")\n",
        "\n",
        "# １ティック前のデータとの変化率\n",
        "data['Price_Change'] = abs(data['Close'].pct_change())*100\n",
        "\n",
        "# Extract hour from the index (Datetime) and add it as a new column\n",
        "data['Hour'] = data.index.hour\n",
        "\n",
        "\n",
        "# Convert GMT hours to JST hours by adding 9 hours\n",
        "data['JST_Hour'] = (data['Hour'] + 9) % 24\n",
        "\n",
        "# Calculate average price change by hour in JST\n",
        "hourly_changes_jst = data.groupby('JST_Hour')['Price_Change'].mean()\n",
        "\n",
        "\n",
        "# Plot the results\n",
        "fig = plt.figure(figsize=(10, 6))  # グラフのサイズを10インチ×6インチに設定\n",
        "plt.plot(hourly_changes_jst, linewidth=2)  # グラフの線幅を2に設定\n",
        "plt.xlabel('Hour of the Day (JST)')\n",
        "plt.ylabel('Average Price Change')\n",
        "plt.title('Bitcoin Average Hourly Price Change (JST)')\n",
        "plt.xticks(range(0, 24))  # x軸の目盛りを0から23までの整数値に設定\n",
        "plt.xlim(0, 23)  # x軸の範囲を0から23までに設定\n",
        "plt.grid(linewidth=0.5)  # グリッド線の幅を0.5に設定\n",
        "plt.show()\n",
        "\n",
        "\n",
        "# Convert the index to Japan timezone\n",
        "data.index = data.index.tz_convert('Asia/Tokyo')\n",
        "\n",
        "# Plot the data\n",
        "fig = plt.figure(figsize=(28, 9))  # グラフのサイズを28インチ×9インチに設定\n",
        "plt.plot(data.index, data['Close'])\n",
        "\n",
        "# Set the x-axis labels to date and time format\n",
        "ax = plt.gca()\n",
        "\n",
        "# Set the DateFormatter with the timezone\n",
        "jst = pytz.timezone('Asia/Tokyo')\n",
        "ax.xaxis.set_major_formatter(mdates.DateFormatter('%m-%d %H:%M', tz=jst))\n",
        "\n",
        "# Set x-axis major ticks every 3 hours\n",
        "ax.xaxis.set_major_locator(mdates.HourLocator(interval=3))\n",
        "\n",
        "plt.title(\"BTC-USD (Japan Time)\")\n",
        "plt.xlabel(\"Date and Time\")\n",
        "plt.ylabel(\"Price\")\n",
        "plt.xticks(rotation=45)  # Rotate x-axis labels for better readability\n",
        "\n",
        "# Draw grid lines\n",
        "ax.grid(which='major', linestyle='-', linewidth=0.5)\n",
        "\n",
        "plt.show()\n"
      ],
      "metadata": {
        "id": "xEvspQmpOkr-"
      },
      "execution_count": null,
      "outputs": []
    }
  ]
}